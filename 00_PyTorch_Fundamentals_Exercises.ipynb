{
  "nbformat": 4,
  "nbformat_minor": 0,
  "metadata": {
    "colab": {
      "provenance": [],
      "gpuType": "T4",
      "authorship_tag": "ABX9TyOKYCY57/O4wwCEA4TAy8vi"
    },
    "kernelspec": {
      "name": "python3",
      "display_name": "Python 3"
    },
    "language_info": {
      "name": "python"
    },
    "accelerator": "GPU"
  },
  "cells": [
    {
      "cell_type": "markdown",
      "source": [
        "Create a random tensor with shape (7,7)"
      ],
      "metadata": {
        "id": "7ehRVHBJSg_J"
      }
    },
    {
      "cell_type": "code",
      "source": [
        "import torch\n",
        "\n",
        "tensor_A = torch.rand(7,7)\n",
        "tensor_A.shape"
      ],
      "metadata": {
        "colab": {
          "base_uri": "https://localhost:8080/"
        },
        "id": "p4GiPjZQVm05",
        "outputId": "f0c1a8a2-880d-4325-c800-442a46c610a3"
      },
      "execution_count": null,
      "outputs": [
        {
          "output_type": "execute_result",
          "data": {
            "text/plain": [
              "torch.Size([7, 7])"
            ]
          },
          "metadata": {},
          "execution_count": 2
        }
      ]
    },
    {
      "cell_type": "markdown",
      "source": [
        "Perform a matrix multiplication on the tensor above with anotehr random tensor with shape (1,7)"
      ],
      "metadata": {
        "id": "X-ShNIXGVnXI"
      }
    },
    {
      "cell_type": "code",
      "source": [
        "tensor_B = torch.rand(1,7)\n",
        "tensor_B"
      ],
      "metadata": {
        "colab": {
          "base_uri": "https://localhost:8080/"
        },
        "id": "5dGyTCo7VnU5",
        "outputId": "a452c977-2002-45f3-c81e-b8c170335dbf"
      },
      "execution_count": null,
      "outputs": [
        {
          "output_type": "execute_result",
          "data": {
            "text/plain": [
              "tensor([[0.8345, 0.5345, 0.5806, 0.9452, 0.1132, 0.2386, 0.5841]])"
            ]
          },
          "metadata": {},
          "execution_count": 6
        }
      ]
    },
    {
      "cell_type": "code",
      "source": [
        "torch.mm(tensor_A, tensor_B.T)"
      ],
      "metadata": {
        "colab": {
          "base_uri": "https://localhost:8080/"
        },
        "id": "W3S9tQPYVnSn",
        "outputId": "0b80865a-044f-438f-98a2-a188c78c800f"
      },
      "execution_count": null,
      "outputs": [
        {
          "output_type": "execute_result",
          "data": {
            "text/plain": [
              "tensor([[1.5329],\n",
              "        [2.2457],\n",
              "        [1.3552],\n",
              "        [1.7108],\n",
              "        [1.9519],\n",
              "        [1.8255],\n",
              "        [2.1204]])"
            ]
          },
          "metadata": {},
          "execution_count": 9
        }
      ]
    },
    {
      "cell_type": "markdown",
      "source": [
        "Set the random seed to 0, then do the previous two questions again\n"
      ],
      "metadata": {
        "id": "CmW_Tn8fVnQP"
      }
    },
    {
      "cell_type": "code",
      "source": [
        "torch.manual_seed(0)\n",
        "tensor_A = torch.rand(7,7)\n",
        "\n",
        "torch.manual_seed(0)\n",
        "tensor_B = torch.rand(1,7)\n",
        "\n",
        "torch.mm(tensor_A, tensor_B.T)"
      ],
      "metadata": {
        "colab": {
          "base_uri": "https://localhost:8080/"
        },
        "id": "UTERnFIzVnNw",
        "outputId": "2b021426-8060-495d-e4bc-83dca3c1c4f6"
      },
      "execution_count": null,
      "outputs": [
        {
          "output_type": "execute_result",
          "data": {
            "text/plain": [
              "tensor([[1.5985],\n",
              "        [1.1173],\n",
              "        [1.2741],\n",
              "        [1.6838],\n",
              "        [0.8279],\n",
              "        [1.0347],\n",
              "        [1.2498]])"
            ]
          },
          "metadata": {},
          "execution_count": 12
        }
      ]
    },
    {
      "cell_type": "markdown",
      "source": [
        "Is there a GPU equivalent to torch.manual_seed()"
      ],
      "metadata": {
        "id": "UvISqX1OVnGz"
      }
    },
    {
      "cell_type": "code",
      "source": [
        "torch.cuda.manual_seed(1234)"
      ],
      "metadata": {
        "id": "HZxyAIdXeV7n"
      },
      "execution_count": null,
      "outputs": []
    },
    {
      "cell_type": "markdown",
      "source": [
        "Create two random tensors of shape (2,3), send them both to the GPU. set torch.manual_seed(1234)."
      ],
      "metadata": {
        "id": "50J0v3ImeV5H"
      }
    },
    {
      "cell_type": "code",
      "source": [
        "import torch\n",
        "torch.manual_seed(1234)\n",
        "tensor_A = torch.rand(2,3)\n",
        "\n",
        "torch.manual_seed(1234)\n",
        "tensor_B = torch.rand(2,3)\n",
        "\n",
        "# check for access to GPU\n",
        "device = \"cuda\" if torch.cuda.is_available() else \"cpu\"\n",
        "\n",
        "tensor_A = tensor_A.to(device)\n",
        "tensor_B = tensor_B.to(device)\n",
        "\n",
        "print(tensor_A, tensor_B)"
      ],
      "metadata": {
        "colab": {
          "base_uri": "https://localhost:8080/"
        },
        "id": "03gTxjhPeV2Q",
        "outputId": "0c7bef40-eacd-48fc-d01f-eafd88f7fc6a"
      },
      "execution_count": null,
      "outputs": [
        {
          "output_type": "stream",
          "name": "stdout",
          "text": [
            "tensor([[0.0290, 0.4019, 0.2598],\n",
            "        [0.3666, 0.0583, 0.7006]], device='cuda:0') tensor([[0.0290, 0.4019, 0.2598],\n",
            "        [0.3666, 0.0583, 0.7006]], device='cuda:0')\n"
          ]
        }
      ]
    },
    {
      "cell_type": "markdown",
      "source": [
        "Perform a matrix multiplication on the tensors you created"
      ],
      "metadata": {
        "id": "RVidyx88ful8"
      }
    },
    {
      "cell_type": "code",
      "source": [
        "tensor_C = torch.mm(tensor_A, tensor_B.T)\n",
        "tensor_C"
      ],
      "metadata": {
        "colab": {
          "base_uri": "https://localhost:8080/"
        },
        "id": "_m0ILyFheVz0",
        "outputId": "faed0966-ab9a-4a91-fb8b-583675a191ce"
      },
      "execution_count": null,
      "outputs": [
        {
          "output_type": "execute_result",
          "data": {
            "text/plain": [
              "tensor([[0.2299, 0.2161],\n",
              "        [0.2161, 0.6287]], device='cuda:0')"
            ]
          },
          "metadata": {},
          "execution_count": 7
        }
      ]
    },
    {
      "cell_type": "markdown",
      "source": [
        "Find the maximum and minimum index values of the output"
      ],
      "metadata": {
        "id": "Z8IRzIlveVxB"
      }
    },
    {
      "cell_type": "code",
      "source": [
        "tensor_C.argmax()"
      ],
      "metadata": {
        "colab": {
          "base_uri": "https://localhost:8080/"
        },
        "id": "-bCjEGqAeVuo",
        "outputId": "3ee3c25e-ad19-4554-de99-9a0069c4a4c0"
      },
      "execution_count": null,
      "outputs": [
        {
          "output_type": "execute_result",
          "data": {
            "text/plain": [
              "tensor(3, device='cuda:0')"
            ]
          },
          "metadata": {},
          "execution_count": 8
        }
      ]
    },
    {
      "cell_type": "code",
      "source": [
        "tensor_C.argmin()"
      ],
      "metadata": {
        "colab": {
          "base_uri": "https://localhost:8080/"
        },
        "id": "JpU-9052eVsH",
        "outputId": "308afab0-c8ed-4bdc-b0a5-bcd636f0b3bb"
      },
      "execution_count": null,
      "outputs": [
        {
          "output_type": "execute_result",
          "data": {
            "text/plain": [
              "tensor(1, device='cuda:0')"
            ]
          },
          "metadata": {},
          "execution_count": 9
        }
      ]
    },
    {
      "cell_type": "markdown",
      "source": [
        "Make a random tensor with shape (1, 1, 1, 10) and then create a new tensor with all the 1 dimensions removed to be left wwitha tensor of shape (10), set the seed to 7 when you create it and print out the first tensor and its shape as well as the second tensor and its shape"
      ],
      "metadata": {
        "id": "GZ-n6sI1eVpo"
      }
    },
    {
      "cell_type": "code",
      "source": [
        "torch.manual_seed(7)\n",
        "tensor_A = torch.rand(1, 1, 1, 10)\n",
        "tensor_B = torch.squeeze(tensor_A)\n",
        "print(tensor_A, tensor_A.shape)\n",
        "print(tensor_B, tensor_B.shape)\n"
      ],
      "metadata": {
        "colab": {
          "base_uri": "https://localhost:8080/"
        },
        "id": "78h7JfeKeVnI",
        "outputId": "dad3458c-c5df-4994-e7f6-32fc0ace47d6"
      },
      "execution_count": null,
      "outputs": [
        {
          "output_type": "stream",
          "name": "stdout",
          "text": [
            "tensor([[[[0.5349, 0.1988, 0.6592, 0.6569, 0.2328, 0.4251, 0.2071, 0.6297,\n",
            "           0.3653, 0.8513]]]]) torch.Size([1, 1, 1, 10])\n",
            "tensor([0.5349, 0.1988, 0.6592, 0.6569, 0.2328, 0.4251, 0.2071, 0.6297, 0.3653,\n",
            "        0.8513]) torch.Size([10])\n"
          ]
        }
      ]
    },
    {
      "cell_type": "code",
      "source": [],
      "metadata": {
        "id": "iaQRBys3eVh0"
      },
      "execution_count": null,
      "outputs": []
    },
    {
      "cell_type": "code",
      "source": [],
      "metadata": {
        "id": "bPQmIq0GeVfA"
      },
      "execution_count": null,
      "outputs": []
    },
    {
      "cell_type": "code",
      "source": [],
      "metadata": {
        "id": "bMUVpghDeVcY"
      },
      "execution_count": null,
      "outputs": []
    },
    {
      "cell_type": "code",
      "source": [],
      "metadata": {
        "id": "pLqwFNLLeVZv"
      },
      "execution_count": null,
      "outputs": []
    },
    {
      "cell_type": "code",
      "source": [],
      "metadata": {
        "id": "6sdN8wqreVT3"
      },
      "execution_count": null,
      "outputs": []
    }
  ]
}